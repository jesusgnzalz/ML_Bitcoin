{
 "cells": [
  {
   "cell_type": "code",
   "execution_count": 2,
   "metadata": {},
   "outputs": [
    {
     "name": "stdout",
     "output_type": "stream",
     "text": [
      "✅ Datos cargados correctamente.\n",
      "\n",
      "🔹 Resultados de Linear Regression:\n",
      "📉 MAE: 2.83\n",
      "📉 MSE: 41.11\n",
      "📈 R²: 1.00\n",
      "\n",
      "🔹 Resultados de Random Forest:\n",
      "📉 MAE: 40.56\n",
      "📉 MSE: 15088.96\n",
      "📈 R²: 1.00\n",
      "\n",
      "✅ Modelo guardado correctamente en: C:/Users/Jesus/Documents/DS_Online_Octubre24_Exercises/Project_Break_II_ML_DL/ML_Bitcoin/src/models/bitcoin_model.joblib\n"
     ]
    }
   ],
   "source": [
    "import pandas as pd  # IMPORTAR PANDAS\n",
    "from sklearn.linear_model import LinearRegression\n",
    "from sklearn.ensemble import RandomForestRegressor\n",
    "from sklearn.metrics import mean_absolute_error, mean_squared_error, r2_score\n",
    "import joblib\n",
    "\n",
    "# Ruta base\n",
    "data_path = \"C:/Users/Jesus/Documents/DS_Online_Octubre24_Exercises/Project_Break_II_ML_DL/ML_Bitcoin/src/data_sample\"\n",
    "\n",
    "# Cargar los datos preprocesados\n",
    "X_train = pd.read_csv(f\"{data_path}/X_train.csv\")\n",
    "X_test = pd.read_csv(f\"{data_path}/X_test.csv\")\n",
    "y_train = pd.read_csv(f\"{data_path}/y_train.csv\").values.ravel()  # Asegurar que 'y' es un vector\n",
    "y_test = pd.read_csv(f\"{data_path}/y_test.csv\").values.ravel()\n",
    "\n",
    "print(\"✅ Datos cargados correctamente.\")\n",
    "\n",
    "# Modelo de regresión lineal\n",
    "lr_model = LinearRegression()\n",
    "lr_model.fit(X_train, y_train)\n",
    "\n",
    "# Modelo Random Forest\n",
    "rf_model = RandomForestRegressor(n_estimators=100, random_state=42)\n",
    "rf_model.fit(X_train, y_train)\n",
    "\n",
    "# Predicciones\n",
    "y_pred_lr = lr_model.predict(X_test)\n",
    "y_pred_rf = rf_model.predict(X_test)\n",
    "\n",
    "# Evaluación\n",
    "print(\"\\n🔹 Resultados de Linear Regression:\")\n",
    "print(f\"📉 MAE: {mean_absolute_error(y_test, y_pred_lr):.2f}\")\n",
    "print(f\"📉 MSE: {mean_squared_error(y_test, y_pred_lr):.2f}\")\n",
    "print(f\"📈 R²: {r2_score(y_test, y_pred_lr):.2f}\")\n",
    "\n",
    "print(\"\\n🔹 Resultados de Random Forest:\")\n",
    "print(f\"📉 MAE: {mean_absolute_error(y_test, y_pred_rf):.2f}\")\n",
    "print(f\"📉 MSE: {mean_squared_error(y_test, y_pred_rf):.2f}\")\n",
    "print(f\"📈 R²: {r2_score(y_test, y_pred_rf):.2f}\")\n",
    "\n",
    "# Guardar el mejor modelo\n",
    "model_path = \"C:/Users/Jesus/Documents/DS_Online_Octubre24_Exercises/Project_Break_II_ML_DL/ML_Bitcoin/src/models/bitcoin_model.joblib\"\n",
    "joblib.dump(rf_model, model_path)\n",
    "\n",
    "print(f\"\\n✅ Modelo guardado correctamente en: {model_path}\")\n"
   ]
  }
 ],
 "metadata": {
  "kernelspec": {
   "display_name": "Python 3",
   "language": "python",
   "name": "python3"
  },
  "language_info": {
   "codemirror_mode": {
    "name": "ipython",
    "version": 3
   },
   "file_extension": ".py",
   "mimetype": "text/x-python",
   "name": "python",
   "nbconvert_exporter": "python",
   "pygments_lexer": "ipython3",
   "version": "3.13.0"
  }
 },
 "nbformat": 4,
 "nbformat_minor": 2
}
