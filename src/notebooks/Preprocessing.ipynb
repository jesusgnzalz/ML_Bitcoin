{
 "cells": [
  {
   "cell_type": "code",
   "execution_count": 2,
   "metadata": {},
   "outputs": [
    {
     "name": "stdout",
     "output_type": "stream",
     "text": [
      "       Open      High       Low     Volume     Close\n",
      "0  56965.02  57000.00  56959.10   6.256467  57000.00\n",
      "1   4608.74   4608.74   4602.00  20.660626   4602.00\n",
      "2    289.22    289.22    289.22   0.000000    289.22\n",
      "3     13.10     13.10     13.10   0.000000     13.10\n",
      "4    138.98    139.00    138.98  23.132753    139.00\n",
      "✅ Preprocesamiento completado y datos guardados.\n"
     ]
    }
   ],
   "source": [
    "import pandas as pd\n",
    "from sklearn.model_selection import train_test_split\n",
    "from sklearn.preprocessing import StandardScaler\n",
    "\n",
    "# Ruta del dataset reducido\n",
    "file_path = \"C:/Users/Jesus/Documents/DS_Online_Octubre24_Exercises/Project_Break_II_ML_DL/ML_Bitcoin/src/data_sample/bitcoin_train_reduced.csv\"\n",
    "\n",
    "# Cargar el dataset\n",
    "df = pd.read_csv(file_path)\n",
    "\n",
    "# Mostrar las primeras filas del dataset para verificar su estructura\n",
    "print(df.head())\n",
    "\n",
    "# Seleccionar variables de interés\n",
    "df = df[[\"Open\", \"High\", \"Low\", \"Volume\", \"Close\"]]\n",
    "\n",
    "# Separar variables predictoras (X) y variable objetivo (y)\n",
    "X = df.drop(columns=[\"Close\"])\n",
    "y = df[\"Close\"]\n",
    "\n",
    "# División en train y test\n",
    "X_train, X_test, y_train, y_test = train_test_split(X, y, test_size=0.2, random_state=42, shuffle=False)\n",
    "\n",
    "# Normalización de datos\n",
    "scaler = StandardScaler()\n",
    "X_train_scaled = scaler.fit_transform(X_train)\n",
    "X_test_scaled = scaler.transform(X_test)\n",
    "\n",
    "# Guardar datasets procesados\n",
    "pd.DataFrame(X_train_scaled, columns=X.columns).to_csv(\"C:/Users/Jesus/Documents/DS_Online_Octubre24_Exercises/Project_Break_II_ML_DL/ML_Bitcoin/src/data_sample/X_train.csv\", index=False)\n",
    "pd.DataFrame(X_test_scaled, columns=X.columns).to_csv(\"C:/Users/Jesus/Documents/DS_Online_Octubre24_Exercises/Project_Break_II_ML_DL/ML_Bitcoin/src/data_sample/X_test.csv\", index=False)\n",
    "pd.DataFrame(y_train).to_csv(\"C:/Users/Jesus/Documents/DS_Online_Octubre24_Exercises/Project_Break_II_ML_DL/ML_Bitcoin/src/data_sample/y_train.csv\", index=False)\n",
    "pd.DataFrame(y_test).to_csv(\"C:/Users/Jesus/Documents/DS_Online_Octubre24_Exercises/Project_Break_II_ML_DL/ML_Bitcoin/src/data_sample/y_test.csv\", index=False)\n",
    "\n",
    "print(\"✅ Preprocesamiento completado y datos guardados.\")\n"
   ]
  }
 ],
 "metadata": {
  "kernelspec": {
   "display_name": "Python 3",
   "language": "python",
   "name": "python3"
  },
  "language_info": {
   "codemirror_mode": {
    "name": "ipython",
    "version": 3
   },
   "file_extension": ".py",
   "mimetype": "text/x-python",
   "name": "python",
   "nbconvert_exporter": "python",
   "pygments_lexer": "ipython3",
   "version": "3.13.0"
  }
 },
 "nbformat": 4,
 "nbformat_minor": 2
}
