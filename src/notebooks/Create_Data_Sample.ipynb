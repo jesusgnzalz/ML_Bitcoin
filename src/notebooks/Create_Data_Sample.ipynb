{
 "cells": [
  {
   "cell_type": "code",
   "execution_count": 1,
   "metadata": {},
   "outputs": [
    {
     "name": "stdout",
     "output_type": "stream",
     "text": [
      "✅ Muestra del dataset guardada en: C:/Users/Jesus/Documents/DS_Online_Octubre24_Exercises/Project_Break_II_ML_DL/ML_Bitcoin/src/data_sample/bitcoin_sample.csv\n",
      "📊 Tamaño de la muestra: 1000 filas, 5 columnas\n"
     ]
    }
   ],
   "source": [
    "import pandas as pd\n",
    "import os\n",
    "\n",
    "# Ruta del dataset original\n",
    "file_path = \"C:/Users/Jesus/Documents/DS_Online_Octubre24_Exercises/Project_Break_II_ML_DL/ML_Bitcoin/src/data_sample/bitcoin_train_reduced.csv\"\n",
    "\n",
    "# Verificar si el archivo existe\n",
    "if not os.path.exists(file_path):\n",
    "    raise FileNotFoundError(f\"❌ No se encontró el archivo en: {file_path}\")\n",
    "\n",
    "# Cargar el dataset original\n",
    "df = pd.read_csv(file_path)\n",
    "\n",
    "# Crear una muestra aleatoria de 1000 filas para reducir el tamaño\n",
    "df_sample = df.sample(n=1000, random_state=42)\n",
    "\n",
    "# Definir la ruta del nuevo dataset de muestra\n",
    "sample_file_path = \"C:/Users/Jesus/Documents/DS_Online_Octubre24_Exercises/Project_Break_II_ML_DL/ML_Bitcoin/src/data_sample/bitcoin_sample.csv\"\n",
    "\n",
    "# Guardar el nuevo dataset reducido\n",
    "df_sample.to_csv(sample_file_path, index=False)\n",
    "\n",
    "print(f\"✅ Muestra del dataset guardada en: {sample_file_path}\")\n",
    "print(f\"📊 Tamaño de la muestra: {df_sample.shape[0]} filas, {df_sample.shape[1]} columnas\")\n"
   ]
  }
 ],
 "metadata": {
  "kernelspec": {
   "display_name": "Python 3",
   "language": "python",
   "name": "python3"
  },
  "language_info": {
   "codemirror_mode": {
    "name": "ipython",
    "version": 3
   },
   "file_extension": ".py",
   "mimetype": "text/x-python",
   "name": "python",
   "nbconvert_exporter": "python",
   "pygments_lexer": "ipython3",
   "version": "3.13.0"
  }
 },
 "nbformat": 4,
 "nbformat_minor": 2
}
